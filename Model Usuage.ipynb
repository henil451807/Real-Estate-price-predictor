{
 "cells": [
  {
   "cell_type": "code",
   "execution_count": 1,
   "id": "b7851b38",
   "metadata": {},
   "outputs": [
    {
     "data": {
      "text/plain": [
       "array([21.42])"
      ]
     },
     "execution_count": 1,
     "metadata": {},
     "output_type": "execute_result"
    }
   ],
   "source": [
    "from joblib import dump,load\n",
    "import numpy as np\n",
    "model = load('Estate.joblib')\n",
    "features = np.array([[-0.43942006,  3.12628155, -1.12165014, -0.67288841, -1.42262747,\n",
    "       -0.44835478, -1.31238772,  7.61111401, -1.0016859 , -0.5778192 ,\n",
    "       -0.97491834,  0.41164221, -0.86091034]])\n",
    "model.predict(features)"
   ]
  }
 ],
 "metadata": {
  "kernelspec": {
   "display_name": "Python 3 (ipykernel)",
   "language": "python",
   "name": "python3"
  },
  "language_info": {
   "codemirror_mode": {
    "name": "ipython",
    "version": 3
   },
   "file_extension": ".py",
   "mimetype": "text/x-python",
   "name": "python",
   "nbconvert_exporter": "python",
   "pygments_lexer": "ipython3",
   "version": "3.10.4"
  }
 },
 "nbformat": 4,
 "nbformat_minor": 5
}
